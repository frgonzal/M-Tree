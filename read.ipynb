{
 "cells": [
  {
   "cell_type": "code",
   "execution_count": 6,
   "metadata": {},
   "outputs": [
    {
     "name": "stdout",
     "output_type": "stream",
     "text": [
      "[p=(0.78\n",
      "[p=(0.78\n",
      "[p=(0.15\n",
      "[p=(0.74\n",
      "[p=(0.15\n",
      "[p=(0.28\n",
      "[p=(0.15\n",
      "[p=(0.74\n",
      "[p=(0.67\n",
      "[p=(0.77\n",
      "[p=(0.28\n",
      "[p=(0.01\n",
      "[p=(0.13\n",
      "[p=(0.15\n",
      "[p=(0.24\n",
      "[p=(0.77\n",
      "[p=(0.95\n",
      "[p=(0.78\n"
     ]
    },
    {
     "data": {
      "image/png": "[encoded data removed]",
      "text/plain": [
       "<Figure size 640x480 with 1 Axes>"
      ]
     },
     "metadata": {},
     "output_type": "display_data"
    }
   ],
   "source": [
    "import pandas as pd\n",
    "import matplotlib.pyplot as plt\n",
    "import re\n",
    "\n",
    "# Function to parse the custom data format\n",
    "def parse_data(row):\n",
    "    print(row)\n",
    "    p_match = re.search(r'p=\\(([^)]+)\\)', row)\n",
    "    h_match = re.search(r'h=(\\d+)', row)\n",
    "    cr_match = re.search(r'cr=(\\d+.\\d+)', row)\n",
    "    n_match = re.search(r'n=(\\d+)', row)\n",
    "    \n",
    "    if not (p_match and h_match and cr_match and n_match):\n",
    "        return None  # Return None if any patterns do not match\n",
    "    \n",
    "    p = tuple(map(float, p_match.group(1).split(',')))\n",
    "    h = int(h_match.group(1))\n",
    "    cr = float(cr_match.group(1))\n",
    "    n = int(n_match.group(1))\n",
    "    return p, h, cr, n\n",
    "\n",
    "# Read the CSV file\n",
    "df = pd.read_csv('data.csv', header=None, delimiter=\"]\")\n",
    "\n",
    "# Prepare the plot\n",
    "fig, ax = plt.subplots()\n",
    "\n",
    "# Process each row in the DataFrame\n",
    "for index, row in df.iterrows():\n",
    "    result = parse_data(row[0])\n",
    "    if result:\n",
    "        p, h, cr, n = result\n",
    "        if n == 0:\n",
    "            ax.plot(p[0], p[1], 'bo')  # Plot a blue dot for n=0\n",
    "        else:\n",
    "            circle = plt.Circle(p, cr, color='r', fill=False)  # Draw a red circle for n!=0\n",
    "            ax.add_artist(circle)\n",
    "\n",
    "# Set equal scaling by setting the aspect ratio to 'equal'\n",
    "ax.set_aspect('equal', adjustable='datalim')\n",
    "plt.grid(True)\n",
    "plt.show()\n"
   ]
  }
 ],
 "metadata": {
  "kernelspec": {
   "display_name": "venv",
   "language": "python",
   "name": "python3"
  },
  "language_info": {
   "codemirror_mode": {
    "name": "ipython",
    "version": 3
   },
   "file_extension": ".py",
   "mimetype": "text/x-python",
   "name": "python",
   "nbconvert_exporter": "python",
   "pygments_lexer": "ipython3",
   "version": "3.12.3"
  }
 },
 "nbformat": 4,
 "nbformat_minor": 2
}
